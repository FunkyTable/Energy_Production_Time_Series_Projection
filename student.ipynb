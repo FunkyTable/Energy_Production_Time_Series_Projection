{
 "cells": [
  {
   "cell_type": "markdown",
   "metadata": {},
   "source": [
    "# Project 5 – Work in Progress\n",
    "\n",
    "* Student name: Greg Osborne\n",
    "* Student pace: self paced / part time\n",
    "* Scheduled project review date/time: 5/1/23\n",
    "* Instructor name: Morgan Jones\n",
    "* Blog post URL: https://medium.com/@gregosborne"
   ]
  },
  {
   "cell_type": "markdown",
   "metadata": {},
   "source": [
    "# Possible Data Sources\n",
    "\n",
    "## Disaster Stats\n",
    "* International Disaster Database: [EM-Dat](https://www.emdat.be/), [Column Definitions](https://public.emdat.be/about)\n",
    "\n",
    "## Refugee Stats\n",
    "* All the refugee info you could ever want, split any way you want: [UNHCR](https://www.unhcr.org/refugee-statistics/download/)\n",
    "* More displacement data on refugees [Internal-Displacement](https://www.internal-displacement.org/database/displacement-data)\n",
    "* A mega dive into the reasoning behind the shocking estimates of future climate refugees: [Migration Data Portal](https://www.migrationdataportal.org/themes/environmental_migration_and_statistics#data-sources)\n",
    "\n",
    "## Population Stats\n",
    "* Population from 1500–2000: [Our World in Data](https://ourworldindata.org/grapher/population-by-country)\n",
    "* Population from 1950–2021 and future projections: [UN's Website](https://population.un.org/wpp/Download/Standard/MostUsed/), [Dataset](https://population.un.org/wpp/Download/Files/1_Indicators%20(Standard)/EXCEL_FILES/1_General/WPP2022_GEN_F01_DEMOGRAPHIC_INDICATORS_COMPACT_REV1.xlsx)\n",
    "\n",
    "## GDP Stats\n",
    "* GDP from 1820–2018 [Our World in Data](https://ourworldindata.org/grapher/gdp-world-regions-stacked-area)\n",
    "* GDP from 1960–2021 in 2015 USD [The World Bank](https://data.worldbank.org/indicator/NY.GDP.MKTP.KD)\n",
    "* GDP growth rates for future years to project GDP past 2021 [International Monetary Fund](https://www.imf.org/external/datamapper/NGDP_RPCH@WEO/OEMDC/ADVEC/WEOWORLD)\n",
    "\n",
    "## Average Global Temperature Stats\n",
    "* Annual average global land-ocean surface temperature from 1880–2022 compared to the long-term average from 1951–1980. [NASA](https://climate.nasa.gov/vital-signs/global-temperature/), [Dataset](https://data.giss.nasa.gov/gistemp/graphs/graph_data/Global_Mean_Estimates_based_on_Land_and_Ocean_Data/graph.txt)\n",
    "* A brilliant graphic from bloomberg from back in 1995. Possibly update it? Project it towards the future? [Bloomberg](https://www.bloomberg.com/graphics/2015-whats-warming-the-world/) (Multiple datasets and links in this article)\n",
    "\n",
    "## At-Risk Property Stats\n",
    "* The total cost, per country, of buildings and machinery at risk of destruction, Produced Capital [CWON 2021 Country Tool (Full Dataset - 219 countries)](https://datacatalog.worldbank.org/search/dataset/0042066)\n",
    "\n",
    "## Greenhouse Gas Emissions\n",
    "* Various emissions data by country and by source. [Integrated Carbon Observation System](https://data.icos-cp.eu/licence?ids=%5B%22G3ZMktDpI9i7qrCXzk4v5C2Z%22%5D&isColl=true)\n",
    "\n",
    "## Energy Production / Consumption\n",
    "* The chart and data motherload: [Our World Data](https://ourworldindata.org/energy)\n",
    "* Energy Production wattage by Country by Source: [Our World In Data](https://ourworldindata.org/grapher/electricity-prod-source-stacked)\n",
    "* Energy Consumption Percentage Increases (Will probably go with projections below instead): [Our World In Data](https://ourworldindata.org/grapher/change-energy-consumption)\n",
    "* Electricity Demand by Country: [Our World In Data](https://ourworldindata.org/grapher/electricity-demand?country=USA~GBR~FRA~DEU~IND~BRA)\n",
    "* Death rates by electricity source [Our World In Data](https://ourworldindata.org/grapher/death-rates-from-energy-production-per-twh)\n",
    "* Usable energy demand projection up until 2050 from IEA: [IEA](https://www.iea.org/data-and-statistics/data-product/world-energy-outlook-2022-free-dataset)\n",
    "\n",
    "## Food Production\n",
    "* Crop yields under three different climate scenarios: [NASA via Data World](https://data.world/nasa/potential-impacts-of-climate-change-on-world-food-supply-v-1/workspace/file?filename=potential-impacts-world-food-supply.xls)\n",
    "* Another dataset regarding crop yields: [Kaggle](https://www.kaggle.com/datasets/thedevastator/the-relationship-between-crop-production-and-cli)\n",
    "\n",
    "## The 2030 target, keeping with the Paris Agreement\n",
    "* The Paris Agreement is a legally binding document signed by 186 countries intended to limit global temperature rise to 1.5 °C: [The UN website](https://unfccc.int/process-and-meetings/the-paris-agreement)\n",
    "  * \"The Paris Agreement is a legally binding international treaty on climate change. It was adopted by 196 Parties at the UN Climate Change Conference (COP21) in Paris, France, on 12 December 2015. It entered into force on 4 November 2016.\n",
    "  \n",
    "    \"Its overarching goal is to hold “the increase in the global average temperature to well below 2°C above pre-industrial levels” and pursue efforts “to limit the temperature increase to 1.5°C above pre-industrial levels.”\"\n",
    "    \n",
    "* In 2018, the gauntlet was thrown, to cut emissions by 45% from 2010 levels by 2030: [IPCC 2018 Special Report – Global Warming of 1.5 ºC](https://www.ipcc.ch/sr15/chapter/spm/#article-spm-c)\n",
    "  * \"C.1. In model pathways with no or limited overshoot of 1.5°C, global net anthropogenic CO2 emissions decline by about 45% from 2010 levels by 2030 (40–60% interquartile range), reaching net zero around 2050 (2045–2055 interquartile range).\""
   ]
  },
  {
   "cell_type": "markdown",
   "metadata": {},
   "source": [
    "# Possible Project Directions:\n",
    "\n",
    "## Show Potential Donors That The Financial Cost of Disaster Mitigation Efforts Will Continue To Rise\n",
    "### Stakeholder: FEMA? UN Disaster Org? Red Cross?\n",
    "Plot out all of the climate related disasters of the last 120 years and stress that the pattern and scale are escalating.\n",
    "\n",
    "## Illustrate Climate Change's Future Effects on the Global Food Supply\n",
    "### Stakeholder: Hunger NGO? Compassion International? Food For The Hungry?\n",
    "Show that the already precarious state of food insecurity will reach frightening levels in the near future. Show data along with population increase data.\n",
    "\n",
    "## What would it take to meet the 2030 & 2050 targets for electricity production?\n",
    "### Stakeholder: United States Department of Energy\n",
    "This would involve showing estimated energy growth rates with an allowance for estimation on transition to EVs. Current production rates of renewables (and dirty energy sources). This will not only prove beyond a doubt that we are only on the cusp of actually accomplishing the goals, but we probably won't make it.\n",
    "\n",
    "## Refugee projection for the United States\n",
    "### Stakeholder: [The Subcommittee on Immigration Integrity, Security, and Enforcement](https://judiciary.house.gov/subcommittees/committee-judiciary/subcommittee-immigration-integrity-security-and-enforcement)\n",
    "This would be a mix of the disaster statistics and refugee numbers in general. The deeper I dove into this, the more complicated it got. Eventually I found that the IPCC itself admits that the estimating this has been very difficult. If I did this, it would be a stab in the dark based on just the data I listed in the above cell. Mission creep would be extremely tempting with this one."
   ]
  },
  {
   "cell_type": "markdown",
   "metadata": {},
   "source": [
    "## Business Understanding\n",
    "### Stakeholder: \n",
    "\n",
    "### Problem: \n",
    "\n",
    "### Using Natural Language Processing (NLP) to build a tool"
   ]
  },
  {
   "cell_type": "markdown",
   "metadata": {},
   "source": [
    "# Table of Contents"
   ]
  },
  {
   "cell_type": "markdown",
   "metadata": {
    "toc": true
   },
   "source": [
    "<h1>Project 4 – NLP Model<span class=\"tocSkip\"></span></h1>\n",
    "<div class=\"toc\"><ul class=\"toc-item\"><li><span><a href=\"#Project-5-–-Work-in-Progress\" data-toc-modified-id=\"Project-5-–-Work-in-Progress-1\"><span class=\"toc-item-num\">1&nbsp;&nbsp;</span>Project 5 – Work in Progress</a></span></li><li><span><a href=\"#Possible-Data-Sources\" data-toc-modified-id=\"Possible-Data-Sources-2\"><span class=\"toc-item-num\">2&nbsp;&nbsp;</span>Possible Data Sources</a></span><ul class=\"toc-item\"><li><span><a href=\"#Disaster-Stats\" data-toc-modified-id=\"Disaster-Stats-2.1\"><span class=\"toc-item-num\">2.1&nbsp;&nbsp;</span>Disaster Stats</a></span></li><li><span><a href=\"#Refugee-Stats\" data-toc-modified-id=\"Refugee-Stats-2.2\"><span class=\"toc-item-num\">2.2&nbsp;&nbsp;</span>Refugee Stats</a></span></li><li><span><a href=\"#Population-Stats\" data-toc-modified-id=\"Population-Stats-2.3\"><span class=\"toc-item-num\">2.3&nbsp;&nbsp;</span>Population Stats</a></span></li><li><span><a href=\"#GDP-Stats\" data-toc-modified-id=\"GDP-Stats-2.4\"><span class=\"toc-item-num\">2.4&nbsp;&nbsp;</span>GDP Stats</a></span></li><li><span><a href=\"#Average-Global-Temperature-Stats\" data-toc-modified-id=\"Average-Global-Temperature-Stats-2.5\"><span class=\"toc-item-num\">2.5&nbsp;&nbsp;</span>Average Global Temperature Stats</a></span></li><li><span><a href=\"#At-Risk-Property-Stats\" data-toc-modified-id=\"At-Risk-Property-Stats-2.6\"><span class=\"toc-item-num\">2.6&nbsp;&nbsp;</span>At-Risk Property Stats</a></span></li><li><span><a href=\"#Greenhouse-Gas-Emissions\" data-toc-modified-id=\"Greenhouse-Gas-Emissions-2.7\"><span class=\"toc-item-num\">2.7&nbsp;&nbsp;</span>Greenhouse Gas Emissions</a></span></li><li><span><a href=\"#Energy-Production-/-Consumption\" data-toc-modified-id=\"Energy-Production-/-Consumption-2.8\"><span class=\"toc-item-num\">2.8&nbsp;&nbsp;</span>Energy Production / Consumption</a></span></li><li><span><a href=\"#Food-Production\" data-toc-modified-id=\"Food-Production-2.9\"><span class=\"toc-item-num\">2.9&nbsp;&nbsp;</span>Food Production</a></span></li><li><span><a href=\"#The-2030-target,-keeping-with-the-Paris-Agreement\" data-toc-modified-id=\"The-2030-target,-keeping-with-the-Paris-Agreement-2.10\"><span class=\"toc-item-num\">2.10&nbsp;&nbsp;</span>The 2030 target, keeping with the Paris Agreement</a></span></li></ul></li><li><span><a href=\"#Possible-Project-Directions:\" data-toc-modified-id=\"Possible-Project-Directions:-3\"><span class=\"toc-item-num\">3&nbsp;&nbsp;</span>Possible Project Directions:</a></span><ul class=\"toc-item\"><li><span><a href=\"#Show-Potential-Donors-That-The-Financial-Cost-of-Disaster-Mitigation-Efforts-Will-Continue-To-Rise\" data-toc-modified-id=\"Show-Potential-Donors-That-The-Financial-Cost-of-Disaster-Mitigation-Efforts-Will-Continue-To-Rise-3.1\"><span class=\"toc-item-num\">3.1&nbsp;&nbsp;</span>Show Potential Donors That The Financial Cost of Disaster Mitigation Efforts Will Continue To Rise</a></span><ul class=\"toc-item\"><li><span><a href=\"#Stakeholder:-FEMA?-UN-Disaster-Org?-Red-Cross?\" data-toc-modified-id=\"Stakeholder:-FEMA?-UN-Disaster-Org?-Red-Cross?-3.1.1\"><span class=\"toc-item-num\">3.1.1&nbsp;&nbsp;</span>Stakeholder: FEMA? UN Disaster Org? Red Cross?</a></span></li></ul></li><li><span><a href=\"#Illustrate-Climate-Change's-Future-Effects-on-the-Global-Food-Supply\" data-toc-modified-id=\"Illustrate-Climate-Change's-Future-Effects-on-the-Global-Food-Supply-3.2\"><span class=\"toc-item-num\">3.2&nbsp;&nbsp;</span>Illustrate Climate Change's Future Effects on the Global Food Supply</a></span><ul class=\"toc-item\"><li><span><a href=\"#Stakeholder:-Hunger-NGO?-Compassion-International?-Food-For-The-Hungry?\" data-toc-modified-id=\"Stakeholder:-Hunger-NGO?-Compassion-International?-Food-For-The-Hungry?-3.2.1\"><span class=\"toc-item-num\">3.2.1&nbsp;&nbsp;</span>Stakeholder: Hunger NGO? Compassion International? Food For The Hungry?</a></span></li></ul></li><li><span><a href=\"#What-would-it-take-to-meet-the-2030-&amp;-2050-targets-for-electricity-production?\" data-toc-modified-id=\"What-would-it-take-to-meet-the-2030-&amp;-2050-targets-for-electricity-production?-3.3\"><span class=\"toc-item-num\">3.3&nbsp;&nbsp;</span>What would it take to meet the 2030 &amp; 2050 targets for electricity production?</a></span><ul class=\"toc-item\"><li><span><a href=\"#Stakeholder:-United-States-Department-of-Energy\" data-toc-modified-id=\"Stakeholder:-United-States-Department-of-Energy-3.3.1\"><span class=\"toc-item-num\">3.3.1&nbsp;&nbsp;</span>Stakeholder: United States Department of Energy</a></span></li></ul></li><li><span><a href=\"#Refugee-projection-for-the-United-States\" data-toc-modified-id=\"Refugee-projection-for-the-United-States-3.4\"><span class=\"toc-item-num\">3.4&nbsp;&nbsp;</span>Refugee projection for the United States</a></span><ul class=\"toc-item\"><li><span><a href=\"#Stakeholder:-The-Subcommittee-on-Immigration-Integrity,-Security,-and-Enforcement\" data-toc-modified-id=\"Stakeholder:-The-Subcommittee-on-Immigration-Integrity,-Security,-and-Enforcement-3.4.1\"><span class=\"toc-item-num\">3.4.1&nbsp;&nbsp;</span>Stakeholder: <a href=\"https://judiciary.house.gov/subcommittees/committee-judiciary/subcommittee-immigration-integrity-security-and-enforcement\" target=\"_blank\">The Subcommittee on Immigration Integrity, Security, and Enforcement</a></a></span></li></ul></li><li><span><a href=\"#Business-Understanding\" data-toc-modified-id=\"Business-Understanding-3.5\"><span class=\"toc-item-num\">3.5&nbsp;&nbsp;</span>Business Understanding</a></span><ul class=\"toc-item\"><li><span><a href=\"#Stakeholder:\" data-toc-modified-id=\"Stakeholder:-3.5.1\"><span class=\"toc-item-num\">3.5.1&nbsp;&nbsp;</span>Stakeholder:</a></span></li><li><span><a href=\"#Problem:\" data-toc-modified-id=\"Problem:-3.5.2\"><span class=\"toc-item-num\">3.5.2&nbsp;&nbsp;</span>Problem:</a></span></li><li><span><a href=\"#Using-Natural-Language-Processing-(NLP)-to-build-a-tool\" data-toc-modified-id=\"Using-Natural-Language-Processing-(NLP)-to-build-a-tool-3.5.3\"><span class=\"toc-item-num\">3.5.3&nbsp;&nbsp;</span>Using Natural Language Processing (NLP) to build a tool</a></span></li></ul></li></ul></li><li><span><a href=\"#Table-of-Contents\" data-toc-modified-id=\"Table-of-Contents-4\"><span class=\"toc-item-num\">4&nbsp;&nbsp;</span>Table of Contents</a></span></li><li><span><a href=\"#Python-Libraries\" data-toc-modified-id=\"Python-Libraries-5\"><span class=\"toc-item-num\">5&nbsp;&nbsp;</span>Python Libraries</a></span></li><li><span><a href=\"#Data-Cleaning\" data-toc-modified-id=\"Data-Cleaning-6\"><span class=\"toc-item-num\">6&nbsp;&nbsp;</span>Data Cleaning</a></span><ul class=\"toc-item\"><li><span><a href=\"#Loading-the-Data-and-Previewing-It\" data-toc-modified-id=\"Loading-the-Data-and-Previewing-It-6.1\"><span class=\"toc-item-num\">6.1&nbsp;&nbsp;</span>Loading the Data and Previewing It</a></span><ul class=\"toc-item\"><li><span><a href=\"#Value-counts-of-categorized-columns\" data-toc-modified-id=\"Value-counts-of-categorized-columns-6.1.1\"><span class=\"toc-item-num\">6.1.1&nbsp;&nbsp;</span>Value counts of categorized columns</a></span></li><li><span><a href=\"#Rename-Columns\" data-toc-modified-id=\"Rename-Columns-6.1.2\"><span class=\"toc-item-num\">6.1.2&nbsp;&nbsp;</span>Rename Columns</a></span></li><li><span><a href=\"#Visualize-the-quantities-of-the-data.\" data-toc-modified-id=\"Visualize-the-quantities-of-the-data.-6.1.3\"><span class=\"toc-item-num\">6.1.3&nbsp;&nbsp;</span>Visualize the quantities of the data.</a></span></li></ul></li><li><span><a href=\"#Preparing-Data-For-Analysis\" data-toc-modified-id=\"Preparing-Data-For-Analysis-6.2\"><span class=\"toc-item-num\">6.2&nbsp;&nbsp;</span>Preparing Data For Analysis</a></span><ul class=\"toc-item\"><li><span><a href=\"#Testing-for-bad-data\" data-toc-modified-id=\"Testing-for-bad-data-6.2.1\"><span class=\"toc-item-num\">6.2.1&nbsp;&nbsp;</span>Testing for bad data</a></span></li></ul></li><li><span><a href=\"#Frequency-Distributions\" data-toc-modified-id=\"Frequency-Distributions-6.3\"><span class=\"toc-item-num\">6.3&nbsp;&nbsp;</span>Frequency Distributions</a></span></li></ul></li><li><span><a href=\"#Building-Models\" data-toc-modified-id=\"Building-Models-7\"><span class=\"toc-item-num\">7&nbsp;&nbsp;</span>Building Models</a></span><ul class=\"toc-item\"><li><span><a href=\"#Final-Model-Selection\" data-toc-modified-id=\"Final-Model-Selection-7.1\"><span class=\"toc-item-num\">7.1&nbsp;&nbsp;</span>Final Model Selection</a></span></li></ul></li><li><span><a href=\"#Tuning-Models\" data-toc-modified-id=\"Tuning-Models-8\"><span class=\"toc-item-num\">8&nbsp;&nbsp;</span>Tuning Models</a></span></li><li><span><a href=\"#Final-Model-And-Analysis\" data-toc-modified-id=\"Final-Model-And-Analysis-9\"><span class=\"toc-item-num\">9&nbsp;&nbsp;</span>Final Model And Analysis</a></span></li><li><span><a href=\"#Conclusion\" data-toc-modified-id=\"Conclusion-10\"><span class=\"toc-item-num\">10&nbsp;&nbsp;</span>Conclusion</a></span><ul class=\"toc-item\"><li><span><a href=\"#Limitations-of-Scope-/-Provided-Data\" data-toc-modified-id=\"Limitations-of-Scope-/-Provided-Data-10.1\"><span class=\"toc-item-num\">10.1&nbsp;&nbsp;</span>Limitations of Scope / Provided Data</a></span></li><li><span><a href=\"#Future-Research-Opportunities\" data-toc-modified-id=\"Future-Research-Opportunities-10.2\"><span class=\"toc-item-num\">10.2&nbsp;&nbsp;</span>Future Research Opportunities</a></span></li><li><span><a href=\"#Recommendations\" data-toc-modified-id=\"Recommendations-10.3\"><span class=\"toc-item-num\">10.3&nbsp;&nbsp;</span>Recommendations</a></span></li><li><span><a href=\"#Grading\" data-toc-modified-id=\"Grading-10.4\"><span class=\"toc-item-num\">10.4&nbsp;&nbsp;</span>Grading</a></span><ul class=\"toc-item\"><li><span><a href=\"#Attention-to-Detail\" data-toc-modified-id=\"Attention-to-Detail-10.4.1\"><span class=\"toc-item-num\">10.4.1&nbsp;&nbsp;</span>Attention to Detail</a></span><ul class=\"toc-item\"><li><span><a href=\"#Exceeds-Objective\" data-toc-modified-id=\"Exceeds-Objective-10.4.1.1\"><span class=\"toc-item-num\">10.4.1.1&nbsp;&nbsp;</span>Exceeds Objective</a></span></li><li><span><a href=\"#Meets-Objective-(Passing-Bar)\" data-toc-modified-id=\"Meets-Objective-(Passing-Bar)-10.4.1.2\"><span class=\"toc-item-num\">10.4.1.2&nbsp;&nbsp;</span>Meets Objective (Passing Bar)</a></span></li></ul></li><li><span><a href=\"#Project-Motivation\" data-toc-modified-id=\"Project-Motivation-10.4.2\"><span class=\"toc-item-num\">10.4.2&nbsp;&nbsp;</span>Project Motivation</a></span><ul class=\"toc-item\"><li><span><a href=\"#Exceeds-Objective\" data-toc-modified-id=\"Exceeds-Objective-10.4.2.1\"><span class=\"toc-item-num\">10.4.2.1&nbsp;&nbsp;</span>Exceeds Objective</a></span></li><li><span><a href=\"#Meets-Objective-(Passing-Bar)\" data-toc-modified-id=\"Meets-Objective-(Passing-Bar)-10.4.2.2\"><span class=\"toc-item-num\">10.4.2.2&nbsp;&nbsp;</span>Meets Objective (Passing Bar)</a></span></li></ul></li><li><span><a href=\"#Independent-Learning\" data-toc-modified-id=\"Independent-Learning-10.4.3\"><span class=\"toc-item-num\">10.4.3&nbsp;&nbsp;</span>Independent Learning</a></span><ul class=\"toc-item\"><li><span><a href=\"#Exceeds-Objective\" data-toc-modified-id=\"Exceeds-Objective-10.4.3.1\"><span class=\"toc-item-num\">10.4.3.1&nbsp;&nbsp;</span>Exceeds Objective</a></span></li><li><span><a href=\"#Meets-Objective-(Passing-Bar)\" data-toc-modified-id=\"Meets-Objective-(Passing-Bar)-10.4.3.2\"><span class=\"toc-item-num\">10.4.3.2&nbsp;&nbsp;</span>Meets Objective (Passing Bar)</a></span></li></ul></li><li><span><a href=\"#Reproducibility\" data-toc-modified-id=\"Reproducibility-10.4.4\"><span class=\"toc-item-num\">10.4.4&nbsp;&nbsp;</span>Reproducibility</a></span><ul class=\"toc-item\"><li><span><a href=\"#Exceeds-Objective\" data-toc-modified-id=\"Exceeds-Objective-10.4.4.1\"><span class=\"toc-item-num\">10.4.4.1&nbsp;&nbsp;</span>Exceeds Objective</a></span></li><li><span><a href=\"#Meets-Objective-(Passing-Bar)\" data-toc-modified-id=\"Meets-Objective-(Passing-Bar)-10.4.4.2\"><span class=\"toc-item-num\">10.4.4.2&nbsp;&nbsp;</span>Meets Objective (Passing Bar)</a></span></li></ul></li></ul></li></ul></li></ul></div>"
   ]
  },
  {
   "cell_type": "markdown",
   "metadata": {},
   "source": [
    "# Python Libraries"
   ]
  },
  {
   "cell_type": "code",
   "execution_count": 1,
   "metadata": {},
   "outputs": [],
   "source": [
    "# DataFrames and computation\n",
    "import pandas as pd\n",
    "import numpy as np\n",
    "\n",
    "# Graphing\n",
    "import matplotlib.pyplot as plt\n",
    "import seaborn as sns\n",
    "%matplotlib inline\n",
    "#from plotly import graph_objs as go\n",
    "#from collections import Counter\n",
    "#import plotly.express as px\n",
    "#from palettable.colorbrewer.qualitative import Pastel1_7\n",
    "\n",
    "# Import the Tokenize library\n",
    "#from nltk.tokenize import RegexpTokenizer\n",
    "\n",
    "# For Frequency Distributions\n",
    "#from nltk import FreqDist\n",
    "#from matplotlib.ticker import MaxNLocator\n",
    "\n",
    "# For Wordclouds\n",
    "#from wordcloud import WordCloud\n",
    "#from wordcloud import ImageColorGenerator\n",
    "\n",
    "# For stopwords\n",
    "#import nltk\n",
    "#from nltk.corpus import stopwords\n",
    "\n",
    "# For stemming words\n",
    "#from nltk.stem.snowball import SnowballStemmer\n",
    "\n",
    "# The Train/Test Split\n",
    "#from sklearn.model_selection import train_test_split\n",
    "\n",
    "# Import the TfidfVectorizer class\n",
    "#from sklearn.feature_extraction.text import TfidfVectorizer\n",
    "\n",
    "# Bag of Words\n",
    "#from sklearn.feature_extraction.text import CountVectorizer\n",
    "\n",
    "# Word2Vec\n",
    "#import gensim\n",
    "\n",
    "# For Min/Max Scaling\n",
    "#from sklearn.preprocessing import MinMaxScaler\n",
    "\n",
    "# Scores\n",
    "#from sklearn.model_selection import cross_val_score\n",
    "#from sklearn.metrics import precision_score, recall_score, accuracy_score\n",
    "#from sklearn.metrics import f1_score\n",
    "#from sklearn.metrics import classification_report\n",
    "\n",
    "# Multinomial Naive Bayes\n",
    "#from sklearn.naive_bayes import MultinomialNB\n",
    "\n",
    "# Logistic Regression Model Classifier\n",
    "#from sklearn.linear_model import LogisticRegression\n",
    "\n",
    "# Support Vector Machine\n",
    "#from sklearn import svm\n",
    "\n",
    "# Random Forest Classifier\n",
    "#from sklearn.ensemble import RandomForestClassifier\n",
    "\n",
    "# For XGBoost Classifier\n",
    "#from xgboost import XGBClassifier\n",
    "\n",
    "# The Confusion Matrix\n",
    "#from sklearn.metrics import confusion_matrix\n",
    "#from sklearn.metrics import ConfusionMatrixDisplay\n",
    "\n",
    "# For Hyperparameter Tuning\n",
    "#from sklearn.model_selection import GridSearchCV\n",
    "\n",
    "# Setting DataFrame Display settings\n",
    "#pd.set_option(\"display.max_rows\", 600)\n",
    "\n",
    "# Formatting decimals to show three numbers after the point.\n",
    "#pd.options.display.float_format = '{:,.3f}'.format"
   ]
  },
  {
   "cell_type": "markdown",
   "metadata": {},
   "source": [
    "# Data Cleaning\n",
    "## Loading the Data and Previewing It\n"
   ]
  },
  {
   "cell_type": "code",
   "execution_count": 3,
   "metadata": {
    "scrolled": false
   },
   "outputs": [],
   "source": [
    "#df_raw = pd.read_csv(\"xxx.csv\",\n",
    "#                     encoding='ANSI')\n",
    "#df_raw.head(7)"
   ]
  },
  {
   "cell_type": "markdown",
   "metadata": {},
   "source": [
    "### Value counts of categorized columns\n",
    " "
   ]
  },
  {
   "cell_type": "markdown",
   "metadata": {},
   "source": [
    "### Rename Columns\n",
    "The columns need more succinct names."
   ]
  },
  {
   "cell_type": "markdown",
   "metadata": {},
   "source": [
    "### Visualize the quantities of the data."
   ]
  },
  {
   "cell_type": "markdown",
   "metadata": {},
   "source": [
    "## Preparing Data For Analysis"
   ]
  },
  {
   "cell_type": "markdown",
   "metadata": {},
   "source": [
    "### Testing for bad data"
   ]
  },
  {
   "cell_type": "markdown",
   "metadata": {},
   "source": [
    "## Frequency Distributions"
   ]
  },
  {
   "cell_type": "markdown",
   "metadata": {},
   "source": [
    "# Building Models\n",
    "It's finally time to build the classification models. I will fit each vectorization technique with the following models:\n",
    "1. Multinomial Naive Bayes \n",
    "2. Logistic Regression\n",
    "3. Support Vector Machine\n",
    "4. RandomForest\n",
    "5. XGBoost\n",
    "\n",
    "I'll explain each of the models below in the same section in which they are created. Before I start, here's one last preview of the DataFrame I am about to model."
   ]
  },
  {
   "cell_type": "markdown",
   "metadata": {},
   "source": [
    "## Final Model Selection"
   ]
  },
  {
   "cell_type": "markdown",
   "metadata": {},
   "source": [
    "# Tuning Models"
   ]
  },
  {
   "cell_type": "markdown",
   "metadata": {},
   "source": [
    "# Final Model And Analysis"
   ]
  },
  {
   "cell_type": "markdown",
   "metadata": {},
   "source": [
    "# Conclusion"
   ]
  },
  {
   "cell_type": "markdown",
   "metadata": {},
   "source": [
    "## Limitations of Scope / Provided Data"
   ]
  },
  {
   "cell_type": "markdown",
   "metadata": {},
   "source": [
    "## Future Research Opportunities"
   ]
  },
  {
   "cell_type": "markdown",
   "metadata": {},
   "source": [
    "## Recommendations"
   ]
  },
  {
   "cell_type": "markdown",
   "metadata": {},
   "source": [
    "That's a wrap! Thanks for hiring Greg Osborne and I hope to work with you more in the future."
   ]
  },
  {
   "cell_type": "markdown",
   "metadata": {},
   "source": [
    "## Grading\n",
    "\n",
    "***To pass this project, you must pass each rubric objective.*** The project rubric objectives for Capstone are:\n",
    "\n",
    "1. Attention to Detail\n",
    "2. Project Motivation\n",
    "3. Independent Learning\n",
    "4. Reproducibility"
   ]
  },
  {
   "cell_type": "markdown",
   "metadata": {},
   "source": [
    "### Attention to Detail\n",
    "\n",
    "Once again, the Attention to Detail standard has increased. ***In Capstone, you need to complete 100% (10 out of 10) or more of the checklist elements in order to pass the Attention to Detail objective.***\n",
    "\n",
    "**NOTE THAT THE PASSING BAR IS HIGHER IN CAPSTONE THAN IT WAS IN PHASE 4!**\n",
    "\n",
    "#### Exceeds Objective\n",
    "\n",
    "In addition to completing 100% of the checklist items, goes above and beyond to create a compelling, accessible repository\n",
    "\n",
    "> Some things to consider doing are running a spell-checker to ensure you don't have typos, adding a description to the repository, using Markdown extensively in the README to create a skim-able document, etc.\n",
    "\n",
    "> You can also look at the [GitHub tips for post-graduation](https://docs.google.com/document/d/1cT13597jlbiVgKUFyhGC7_QFUrLQUfZViRu8kD_ErAA/edit?usp=sharing) doc (which your career coach will be sending you soon!) to find more examples of enhancements\n",
    "\n",
    "#### Meets Objective (Passing Bar)\n",
    "\n",
    "100% of the project checklist items are complete\n"
   ]
  },
  {
   "cell_type": "markdown",
   "metadata": {},
   "source": [
    "### Project Motivation\n",
    "\n",
    "The passing bar for this element will be communicated in the **elevator pitch** portion of the README, immediately after the project title. The elevator pitch should:\n",
    "\n",
    "* Describe the **data** used in the model\n",
    "   * This does *not* mean that you should list out every single column name and data type. Instead, describe the data generally.\n",
    "* Identify the **target**\n",
    "   * What are you predicting?\n",
    "* Communicate the **rationale** for predicting this target with this data\n",
    "   * This can be very brief. The goal is to avoid a \"so what?\" response\n",
    "* Evaluate the final model's **performance**\n",
    "\n",
    "Here are some examples of elevator pitches, which include all of the required elements:\n",
    "\n",
    "> Searching for skincare products can be overwhelming, since there are so many options and skincare needs vary so much from person to person.  This project uses product and review data scraped from SkinStore.com to make personalized recommendations to a new user based on their skin type, skin problems, and the types of products they're looking for. Using the `surprise` Python package, the final machine learning model has an RMSE of 0.96, meaning that it is able to predict the star rating (out of 5) within 1 star for a given product and user.\n",
    "\n",
    "> Taxi drivers in New York City have the flexibility to choose when and where to start their workdays, but the best time and location varies. This project uses data about taxi trips from the NYC Open Data portal as well as weather and CitiBike data to forecast demand for taxi pickups across different neighborhoods. The model is able to explain about 70% of the variance in demand and would be especially useful for a taxi company to orchestrate their distribution of resources.\n",
    "\n",
    "**Note:** There is NO threshold for model performance you are required to meet. So long as you explain what you tried and properly evaluate the outcome, it's fine to have a model with poor performance. We recognize that your time is limited during Capstone and we want you to focus more on the process and communication, not worrying about model performance.\n",
    "\n",
    "#### Exceeds Objective\n",
    "\n",
    "Weaves a clear narrative throughout the project explaining the scope, methods, and specific use cases for the final model\n",
    "\n",
    "#### Meets Objective (Passing Bar)\n",
    "\n",
    "Describes data, identifies a target, and communicates the rationale for predicting the target with this data and an evaluation of the final model's performance"
   ]
  },
  {
   "cell_type": "markdown",
   "metadata": {},
   "source": [
    "### Independent Learning\n",
    "\n",
    "Learning the specific content we teach in the Flatiron School Data Science program is important, but learning how to learn is even more important! This objective is asking you to flex that skill.\n",
    "\n",
    "The baseline requirement is that you do some domain research, rather than just diving into the dataset. Sometimes a clear understanding of the domain will help you collect a key feature or perform a key preprocessing step that will massively improve your model performance. Work smarter, not harder!\n",
    "\n",
    "#### Exceeds Objective\n",
    "\n",
    "Demonstrates a \"deep dive\" beyond the course content of the DS program, such as extensive domain knowledge or extensively using additional Python packages\n",
    "\n",
    "> Ideally, your notebook would teach your *instructor* something new about a domain or a technique!\n",
    "\n",
    "#### Meets Objective (Passing Bar)\n",
    "\n",
    "Cites at least one external source to demonstrate domain understanding of the project topic\n",
    "\n",
    "> The source is up to you. It can be an academic whitepaper, an industry publication, a newspaper article, or even just the Wikipedia page on a topic.\n"
   ]
  },
  {
   "cell_type": "markdown",
   "metadata": {},
   "source": [
    "### Reproducibility\n",
    "\n",
    "While you may explore additional forms of *deployment* such as creating an API or web app, the main way that Flatiron School DS projects are deployed is through a reproducible notebook on GitHub.\n",
    "\n",
    "The explanation of how to reproduce your analysis can either be directly in your README in the Repository Navigation section, or you can create a separate Markdown file and link it in the README.\n",
    "\n",
    "Be sure to describe the operating system used (including cloud systems such as Kaggle or Google Colab), the packages, and how to get the data.\n",
    "\n",
    "#### Exceeds Objective\n",
    "\n",
    "Writes a script so that reproducing the project is seamless on a designated platform\n",
    "\n",
    "> This can be a Python script or a terminal script. It might involve downloading images and moving them into subfolders, installing packages with `conda` or `pip`, etc.\n",
    "\n",
    "#### Meets Objective (Passing Bar)\n",
    "\n",
    "Incorporates the basic elements of a reproducible project: a description of software used + how to get the data\n",
    "\n",
    "> Ideally you would list the specific versions of packages used through an `environment.yml` or `requirements.txt` file. If you are using a platform like Kaggle, describe the additional `pip install` commands required beyond the base Kaggle environment.\n",
    "\n",
    "> If your data is proprietary or otherwise not accessible to someone trying to reproduce your analysis, make sure you explain this clearly. If possible, include a sample or anonymized version of the data in the repo.\n"
   ]
  }
 ],
 "metadata": {
  "kernelspec": {
   "display_name": "Python 3",
   "language": "python",
   "name": "python3"
  },
  "language_info": {
   "codemirror_mode": {
    "name": "ipython",
    "version": 3
   },
   "file_extension": ".py",
   "mimetype": "text/x-python",
   "name": "python",
   "nbconvert_exporter": "python",
   "pygments_lexer": "ipython3",
   "version": "3.8.5"
  },
  "toc": {
   "base_numbering": 1,
   "nav_menu": {},
   "number_sections": true,
   "sideBar": true,
   "skip_h1_title": false,
   "title_cell": "Project 4 – NLP Model",
   "title_sidebar": "Contents",
   "toc_cell": true,
   "toc_position": {
    "height": "calc(100% - 180px)",
    "left": "10px",
    "top": "150px",
    "width": "321.837px"
   },
   "toc_section_display": true,
   "toc_window_display": false
  }
 },
 "nbformat": 4,
 "nbformat_minor": 4
}
